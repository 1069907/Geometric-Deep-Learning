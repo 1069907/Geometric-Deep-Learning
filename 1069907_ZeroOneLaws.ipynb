{
  "nbformat": 4,
  "nbformat_minor": 0,
  "metadata": {
    "colab": {
      "provenance": []
    },
    "kernelspec": {
      "name": "python3",
      "display_name": "Python 3"
    },
    "language_info": {
      "name": "python"
    }
  },
  "cells": [
    {
      "cell_type": "markdown",
      "source": [
        "#Problem statement and experimental setup"
      ],
      "metadata": {
        "id": "l3_IGrKWdlV2"
      }
    },
    {
      "cell_type": "markdown",
      "source": [
        "Let us restate the hypothesis that we are trying to verify. \n",
        "\n",
        "Let $M$ be a GNN with the aggregation scheme\n",
        "$$\n",
        "y_v^1 = \\sum_{u \\in N(v)}\\alpha_{vu}W_1x_u \n",
        "$$\n",
        "\n",
        "where $\\alpha_{vu} \\sim D(n)$ are independent and $N(v)$ follows a distribution according to the random graph model. Then if the distribution $D(n)$ and the random graph model are such that $D(n) \\times |N(v)| \\to c$ almost surely, then $y_v^1$ tends to $c \\mu$ almost surely as $n$ tends to infinity and the GNN satisfies a zero one law.\n",
        "Note that there are in fact two claims: one is that $y_v^1$ tends to $c \\mu$ almost surely as $n$ tends to infinity and the other is that the GNN satisfies a zero one law. Neither claim directly implies the other so we must verify both.  \n",
        "\n",
        "To do this, we will have two different setups. For the first claim, we will only have a 1 layer GNN and we will only be interested in the preactivations of one arbitrary node, meaning we will not pass it through a nonlinearity nor a classifier. We will be interested in verifying two things: \n",
        "1. Can we see convergence to $c \\mu$? \n",
        "2. Is the convergence almost sure?\n",
        "\n",
        "One might argue that the second condition is not that interesting, because convergence in probability is good enough. This is probably true, but recall that in the report, we were also exploring the connection of the zero one laws to the strong law of large numbers. In this sense, almost sure convergence is absolutely essential - if it is a different type of convergence, it is not the strong law that is driving the mechanism. I believe it deserves to be verified. \n",
        "\n",
        "\n",
        "For the second claim, we will have a multilayer GNN and we will look at the graph labels. \n",
        "\n",
        "In both cases we will only consider the Erdos-Renyi random graph model but the claim is more general. The report is already quite long, so I defer this task to someone else. "
      ],
      "metadata": {
        "id": "vZLiP-5GdoCk"
      }
    },
    {
      "cell_type": "markdown",
      "source": [
        "#Claim 1: Almost sure convergence"
      ],
      "metadata": {
        "id": "xCGnLNyTh-ew"
      }
    },
    {
      "cell_type": "markdown",
      "source": [
        "##Experiments "
      ],
      "metadata": {
        "id": "mfxw2pky96kc"
      }
    },
    {
      "cell_type": "code",
      "source": [
        "!pip install torch==1.12.1+cu113 torchvision==0.13.1+cu113 torchaudio==0.12.1 --extra-index-url https://download.pytorch.org/whl/cu113\n",
        "!pip install networkx\n",
        "\n",
        "!pip install -q torch-scatter -f https://data.pyg.org/whl/torch-1.12.1+cu113.html\n",
        "!pip install -q torch-sparse -f https://data.pyg.org/whl/torch-1.12.1+cu113.html\n",
        "!pip install -q git+https://github.com/pyg-team/pytorch_geometric.git"
      ],
      "metadata": {
        "colab": {
          "base_uri": "https://localhost:8080/"
        },
        "id": "L5_T2-WKEj1s",
        "outputId": "d6adb219-f938-46c1-eab9-c7b244cdf7e4"
      },
      "execution_count": null,
      "outputs": [
        {
          "output_type": "stream",
          "name": "stdout",
          "text": [
            "Looking in indexes: https://pypi.org/simple, https://us-python.pkg.dev/colab-wheels/public/simple/, https://download.pytorch.org/whl/cu113\n",
            "Collecting torch==1.12.1+cu113\n",
            "  Downloading https://download.pytorch.org/whl/cu113/torch-1.12.1%2Bcu113-cp39-cp39-linux_x86_64.whl (1837.7 MB)\n",
            "\u001b[2K     \u001b[90m━━━━━━━━━━━━━━━━━━━━━━━━━━━━━━━━━━━━━━━━\u001b[0m \u001b[32m1.8/1.8 GB\u001b[0m \u001b[31m691.2 kB/s\u001b[0m eta \u001b[36m0:00:00\u001b[0m\n",
            "\u001b[?25hCollecting torchvision==0.13.1+cu113\n",
            "  Downloading https://download.pytorch.org/whl/cu113/torchvision-0.13.1%2Bcu113-cp39-cp39-linux_x86_64.whl (23.4 MB)\n",
            "\u001b[2K     \u001b[90m━━━━━━━━━━━━━━━━━━━━━━━━━━━━━━━━━━━━━━━━\u001b[0m \u001b[32m23.4/23.4 MB\u001b[0m \u001b[31m55.6 MB/s\u001b[0m eta \u001b[36m0:00:00\u001b[0m\n",
            "\u001b[?25hCollecting torchaudio==0.12.1\n",
            "  Downloading https://download.pytorch.org/whl/cu113/torchaudio-0.12.1%2Bcu113-cp39-cp39-linux_x86_64.whl (3.8 MB)\n",
            "\u001b[2K     \u001b[90m━━━━━━━━━━━━━━━━━━━━━━━━━━━━━━━━━━━━━━━━\u001b[0m \u001b[32m3.8/3.8 MB\u001b[0m \u001b[31m91.8 MB/s\u001b[0m eta \u001b[36m0:00:00\u001b[0m\n",
            "\u001b[?25hRequirement already satisfied: typing-extensions in /usr/local/lib/python3.9/dist-packages (from torch==1.12.1+cu113) (4.5.0)\n",
            "Requirement already satisfied: numpy in /usr/local/lib/python3.9/dist-packages (from torchvision==0.13.1+cu113) (1.22.4)\n",
            "Requirement already satisfied: pillow!=8.3.*,>=5.3.0 in /usr/local/lib/python3.9/dist-packages (from torchvision==0.13.1+cu113) (8.4.0)\n",
            "Requirement already satisfied: requests in /usr/local/lib/python3.9/dist-packages (from torchvision==0.13.1+cu113) (2.27.1)\n",
            "Requirement already satisfied: certifi>=2017.4.17 in /usr/local/lib/python3.9/dist-packages (from requests->torchvision==0.13.1+cu113) (2022.12.7)\n",
            "Requirement already satisfied: urllib3<1.27,>=1.21.1 in /usr/local/lib/python3.9/dist-packages (from requests->torchvision==0.13.1+cu113) (1.26.15)\n",
            "Requirement already satisfied: charset-normalizer~=2.0.0 in /usr/local/lib/python3.9/dist-packages (from requests->torchvision==0.13.1+cu113) (2.0.12)\n",
            "Requirement already satisfied: idna<4,>=2.5 in /usr/local/lib/python3.9/dist-packages (from requests->torchvision==0.13.1+cu113) (3.4)\n",
            "Installing collected packages: torch, torchvision, torchaudio\n",
            "  Attempting uninstall: torch\n",
            "    Found existing installation: torch 1.13.1+cu116\n",
            "    Uninstalling torch-1.13.1+cu116:\n",
            "      Successfully uninstalled torch-1.13.1+cu116\n",
            "  Attempting uninstall: torchvision\n",
            "    Found existing installation: torchvision 0.14.1+cu116\n",
            "    Uninstalling torchvision-0.14.1+cu116:\n",
            "      Successfully uninstalled torchvision-0.14.1+cu116\n",
            "  Attempting uninstall: torchaudio\n",
            "    Found existing installation: torchaudio 0.13.1+cu116\n",
            "    Uninstalling torchaudio-0.13.1+cu116:\n",
            "      Successfully uninstalled torchaudio-0.13.1+cu116\n",
            "\u001b[31mERROR: pip's dependency resolver does not currently take into account all the packages that are installed. This behaviour is the source of the following dependency conflicts.\n",
            "torchtext 0.14.1 requires torch==1.13.1, but you have torch 1.12.1+cu113 which is incompatible.\u001b[0m\u001b[31m\n",
            "\u001b[0mSuccessfully installed torch-1.12.1+cu113 torchaudio-0.12.1+cu113 torchvision-0.13.1+cu113\n",
            "Looking in indexes: https://pypi.org/simple, https://us-python.pkg.dev/colab-wheels/public/simple/\n",
            "Requirement already satisfied: networkx in /usr/local/lib/python3.9/dist-packages (3.0)\n",
            "\u001b[2K     \u001b[90m━━━━━━━━━━━━━━━━━━━━━━━━━━━━━━━━━━━━━━━\u001b[0m \u001b[32m107.6/107.6 KB\u001b[0m \u001b[31m5.6 MB/s\u001b[0m eta \u001b[36m0:00:00\u001b[0m\n",
            "\u001b[?25h  Preparing metadata (setup.py) ... \u001b[?25l\u001b[?25hdone\n",
            "  Building wheel for torch-scatter (setup.py) ... \u001b[?25l\u001b[?25hdone\n",
            "\u001b[2K     \u001b[90m━━━━━━━━━━━━━━━━━━━━━━━━━━━━━━━━━━━━━━━━\u001b[0m \u001b[32m3.5/3.5 MB\u001b[0m \u001b[31m46.1 MB/s\u001b[0m eta \u001b[36m0:00:00\u001b[0m\n",
            "\u001b[?25h  Installing build dependencies ... \u001b[?25l\u001b[?25hdone\n",
            "  Getting requirements to build wheel ... \u001b[?25l\u001b[?25hdone\n",
            "  Preparing metadata (pyproject.toml) ... \u001b[?25l\u001b[?25hdone\n",
            "  Building wheel for torch-geometric (pyproject.toml) ... \u001b[?25l\u001b[?25hdone\n"
          ]
        }
      ]
    },
    {
      "cell_type": "markdown",
      "source": [
        "Before we do anything, I need to explain the difference between almost sure convergence and convergence in probability. You can find the definitions in the appendix. Recall that one can prove whether something converges almost surely/in probability, by using the Borel Cantelli lemmas.\n",
        "\n",
        "The real question is, how can we observe this difference in experiments? "
      ],
      "metadata": {
        "id": "it4n8PUUCbil"
      }
    },
    {
      "cell_type": "code",
      "source": [
        "import random\n",
        "import numpy as np\n",
        "import matplotlib.pyplot as plt\n",
        "import torch\n",
        "import torch_geometric"
      ],
      "metadata": {
        "id": "eb-8O-CzFzGY"
      },
      "execution_count": null,
      "outputs": []
    },
    {
      "cell_type": "markdown",
      "source": [
        "Example of something that converges in probability but not almost surely is the sequence $X_n \\sim Ber(1/n)$:"
      ],
      "metadata": {
        "id": "1AOpMm2cGTao"
      }
    },
    {
      "cell_type": "code",
      "execution_count": null,
      "metadata": {
        "colab": {
          "base_uri": "https://localhost:8080/",
          "height": 282
        },
        "id": "qzlV69MMijyg",
        "outputId": "6aa31b26-de58-4be1-97f6-65b92d5868d5"
      },
      "outputs": [
        {
          "output_type": "execute_result",
          "data": {
            "text/plain": [
              "[<matplotlib.lines.Line2D at 0x7f10e4a30160>]"
            ]
          },
          "metadata": {},
          "execution_count": 11
        },
        {
          "output_type": "display_data",
          "data": {
            "text/plain": [
              "<Figure size 432x288 with 1 Axes>"
            ],
            "image/png": "[encoded data removed]"
          },
          "metadata": {
            "needs_background": "light"
          }
        }
      ],
      "source": [
        "#this random variable converges to 0 in probability but not almost surely. You always have an infinite subsequence of 1's\n",
        "output = []\n",
        "for i in range(1,100000):\n",
        "  x = np.random.binomial(1,1/i)\n",
        "  output.append(x)\n",
        "\n",
        "plt.plot(output)"
      ]
    },
    {
      "cell_type": "markdown",
      "source": [
        "If we slightly change this to $X_n \\sim Ber(1/n^2)$ we get almost sure convergence:"
      ],
      "metadata": {
        "id": "MO2OQM5eGNO1"
      }
    },
    {
      "cell_type": "code",
      "source": [
        "#this random variable converges to 0 both in probability and also almost surely. You never have an infinite subsequence of 1's\n",
        "output = []\n",
        "for i in range(1,100000):\n",
        "  x = np.random.binomial(1,1/i**2)\n",
        "  output.append(x)\n",
        "\n",
        "plt.plot(output)"
      ],
      "metadata": {
        "colab": {
          "base_uri": "https://localhost:8080/",
          "height": 282
        },
        "id": "BDQ6YVbhGMtU",
        "outputId": "900a8de7-3514-40d5-9a04-ec2cd87d5ee6"
      },
      "execution_count": null,
      "outputs": [
        {
          "output_type": "execute_result",
          "data": {
            "text/plain": [
              "[<matplotlib.lines.Line2D at 0x7f10e49db190>]"
            ]
          },
          "metadata": {},
          "execution_count": 14
        },
        {
          "output_type": "display_data",
          "data": {
            "text/plain": [
              "<Figure size 432x288 with 1 Axes>"
            ],
            "image/png": "[encoded data removed]"
          },
          "metadata": {
            "needs_background": "light"
          }
        }
      ]
    },
    {
      "cell_type": "markdown",
      "source": [
        "As the definitions suggest, the difference is in infinite occurences of \"bad\" values. If something converges in probability, but not almost surely, you are guaranteed (with probability 1) to find an infinite sequence of \"bad\" values as is shown above. If you have almost sure convergence, you are guaranteed that this will not happen. \n",
        "\n",
        "In continuous random variables, the plots are not as nice as the ones above. Luckily, in most of our experiments, the difference will be easy to spot. Obviously, this will be done in a non-rigorous way, but that is the only way to verify this experimentally. Recall that our conjecture is motivated by theory - these experiments should act as guidance whether we are thinking in the right direction."
      ],
      "metadata": {
        "id": "dGJf2yW_i8qW"
      }
    },
    {
      "cell_type": "markdown",
      "source": [
        "Now let's setup a 1 layer network, sample graphs from the Erdos-Renyi model of size 2 to 500  and experiment with different distributions on the attention weights."
      ],
      "metadata": {
        "id": "gPMn3QFzmSzX"
      }
    },
    {
      "cell_type": "code",
      "source": [
        "def generate_erdos_renyi(num_nodes,edge_probability):\n",
        "  #generates erdos renyi graphs\n",
        "  \n",
        "  return torch_geometric.utils.random.erdos_renyi_graph(num_nodes, edge_probability, directed = False)\n",
        "\n",
        "def generate_node_features(num_nodes, dimension = 2, mu = 1, std = 1):\n",
        "  # generates node features - we will start with the normal distribution but later try not subgaussian\n",
        "\n",
        "  return torch.normal(mean=mu*torch.ones(num_nodes,dimension), std= torch.tensor([std]))\n",
        "\n",
        "def experiment(X_dim, net, num_graphs = 500, r = 1):\n",
        "  output = []\n",
        "  #samples random graphs of size 1,2 .. num_graphs (one graph for each size) with random features\n",
        "\n",
        "  for n in range(2,num_graphs):\n",
        "    #prepare self loops\n",
        "    self_loops = torch.arange(n).reshape(1,n)\n",
        "    edge_index0 = torch.cat((self_loops,self_loops), dim = 0 )\n",
        "\n",
        "    #generate random graph from G(n,r)\n",
        "    edge_index = torch.cat((generate_erdos_renyi(n,r),edge_index0), dim = 1) \n",
        "    adj = torch_geometric.utils.to_dense_adj(edge_index)[0] \n",
        "\n",
        "    #generate node features\n",
        "    X = generate_node_features(n,X_dim)\n",
        "\n",
        "    Y_n = net.forward(adj,X,r)\n",
        "  \n",
        "    output.append(Y_n[0]) #only look at one vertex \n",
        "  \n",
        "  return output"
      ],
      "metadata": {
        "id": "ky0vZG8MFs7i"
      },
      "execution_count": null,
      "outputs": []
    },
    {
      "cell_type": "markdown",
      "source": [
        "We begin with something which we know converges almost surely, to understand what the plots should look like. This is exactly the case of a GCN on a **fully connected** graph (meaning r = 1 in the ER model). The reason why we know this converges almost surely is that now, every node has a neighborhood exactly equal to $n$ and thus the aggregation is exactly:\n",
        "\n",
        "$$\n",
        "y_v^1 = \\frac{X_1 + \\dots X_n}{n}\n",
        "$$\n",
        "which is exactly the strong law of large numbers.\n",
        "\n",
        "(here $X_i = Wx_i$)"
      ],
      "metadata": {
        "id": "0VPClI9Dn-iK"
      }
    },
    {
      "cell_type": "code",
      "source": [
        "#Now implement a single 1 layer GCN - we will later tweak this to get different distribtuions\n",
        "\n",
        "class GCN():\n",
        "  def __init__(self,in_dim, out_dim):\n",
        "    self.W = torch.rand(in_dim,out_dim)\n",
        "\n",
        "  def forward(self,adj,X,r):\n",
        "   \n",
        "    D = torch.diag(torch.sum(adj,dim = 0))\n",
        " \n",
        "    D_sqrt = torch.linalg.inv(torch.sqrt(D))\n",
        "    conv = D_sqrt @ adj @ D_sqrt\n",
        "  \n",
        "    prod =  conv @ X @ self.W\n",
        "\n",
        "    return prod"
      ],
      "metadata": {
        "id": "h-eUtp7Tm8vf"
      },
      "execution_count": null,
      "outputs": []
    },
    {
      "cell_type": "code",
      "source": [
        "#start with 2 dimensional features and 3 dimensional output. This doesnt really matter\n",
        "X_dim = 2\n",
        "out_channels = 3\n",
        "\n",
        "mu = 1*torch.ones(1,X_dim) #mean vector of the feature distribution \n",
        "\n",
        "#the expected value (the value we should converge to) is just c*(W*mu)\n",
        "\n",
        "net = GCN(X_dim, out_channels)\n",
        "target = mu@net.W\n",
        "target"
      ],
      "metadata": {
        "colab": {
          "base_uri": "https://localhost:8080/"
        },
        "id": "jHz8PRfkqwSt",
        "outputId": "030ce63d-d705-4306-edeb-1c6dbc4a5045"
      },
      "execution_count": null,
      "outputs": [
        {
          "output_type": "execute_result",
          "data": {
            "text/plain": [
              "tensor([[1.3806, 1.2795, 0.7290]])"
            ]
          },
          "metadata": {},
          "execution_count": 115
        }
      ]
    },
    {
      "cell_type": "code",
      "source": [
        "output = experiment(X_dim, net, 500)\n",
        "diff1 = []\n",
        "\n",
        "for i in range(len(output)):\n",
        "  diff1.append(target[0][0] - output[i][0]) #compute distance between mean and output. Look at only 1 component  \n"
      ],
      "metadata": {
        "id": "YmbhlJfPrYrp"
      },
      "execution_count": null,
      "outputs": []
    },
    {
      "cell_type": "code",
      "source": [
        "# we see nice convergence to 0. We know from theory, that this is almost sure convergence. \n",
        "plt.plot(diff1)"
      ],
      "metadata": {
        "colab": {
          "base_uri": "https://localhost:8080/",
          "height": 282
        },
        "id": "bwQY37S00ccC",
        "outputId": "80a435bf-1143-498a-daef-aa2c7df801f3"
      },
      "execution_count": null,
      "outputs": [
        {
          "output_type": "execute_result",
          "data": {
            "text/plain": [
              "[<matplotlib.lines.Line2D at 0x7f9dae0b21c0>]"
            ]
          },
          "metadata": {},
          "execution_count": 126
        },
        {
          "output_type": "display_data",
          "data": {
            "text/plain": [
              "<Figure size 432x288 with 1 Axes>"
            ],
            "image/png": "[encoded data removed]"
          },
          "metadata": {
            "needs_background": "light"
          }
        }
      ]
    },
    {
      "cell_type": "markdown",
      "source": [
        "We see that the output converges to the mean. Note that this is just the GCN with $r = 1$ (which we know converges almost surely). Let's now consider the general model and experiment with different distributions. "
      ],
      "metadata": {
        "id": "iKP3Wll90xwr"
      }
    },
    {
      "cell_type": "markdown",
      "source": [
        "Using the Borel Cantelli lemma, one can prove that if $D(n) \\sim Bin(n,r)$, then $D(n) \\times \\frac{1}{N(n\\times r,\\sigma)} \\to 1$ almost surely. The binomial distribution is coming from the fact that we are sampling graphs from the E-R model. \n",
        "\n",
        "Let us verify this is how the distributions behave. "
      ],
      "metadata": {
        "id": "bcIYwcv01INy"
      }
    },
    {
      "cell_type": "code",
      "source": [
        "output = []\n",
        "r = 0.5\n",
        "for i in range(1,1000):\n",
        "  x = 1 + np.random.binomial(i-1,0.5) #the +1 comes from the self-loop, that's fine\n",
        "  y = np.random.normal(i*r,1) \n",
        "  output.append(x/y)\n",
        "plt.plot(output)\n",
        "plt.show\n",
        "#we observe really nice convergence to 1"
      ],
      "metadata": {
        "colab": {
          "base_uri": "https://localhost:8080/",
          "height": 285
        },
        "id": "d2UfFzO91GKA",
        "outputId": "6ef117ba-8561-4b22-cfb1-3c90442c47a3"
      },
      "execution_count": null,
      "outputs": [
        {
          "output_type": "execute_result",
          "data": {
            "text/plain": [
              "<function matplotlib.pyplot.show(close=None, block=None)>"
            ]
          },
          "metadata": {},
          "execution_count": 127
        },
        {
          "output_type": "display_data",
          "data": {
            "text/plain": [
              "<Figure size 432x288 with 1 Axes>"
            ],
            "image/png": "[encoded data removed]"
          },
          "metadata": {
            "needs_background": "light"
          }
        }
      ]
    },
    {
      "cell_type": "markdown",
      "source": [
        "Now define a GNN where the coefficients are sampled from $\\frac{1}{N(n\\times r,\\sigma)}$ and set $r = 0.8$ (the Erdos-Renyi parameter). Do we see convergence to the mean $W \\mu$, as our hypothesis suggests? \n"
      ],
      "metadata": {
        "id": "IMJQbvGv2lkf"
      }
    },
    {
      "cell_type": "code",
      "source": [
        "class GNNNormal():\n",
        "  def __init__(self,in_dim, out_dim):\n",
        "    self.W = torch.rand(in_dim,out_dim)\n",
        "    \n",
        "\n",
        "  def forward(self,adj,X,r):\n",
        "    D = torch.distributions.normal.Normal(adj.shape[0]*r*torch.ones_like(adj),1*torch.ones_like(adj)).sample()\n",
        "    \n",
        "    D = 1/D\n",
        "    coeff =  D*adj\n",
        "    prod = coeff @ X @ self.W\n",
        "\n",
        "    return prod"
      ],
      "metadata": {
        "id": "njsUfbwp0rOe"
      },
      "execution_count": null,
      "outputs": []
    },
    {
      "cell_type": "code",
      "source": [
        "X_dim = 2\n",
        "out_channels = 3\n",
        "mu = 1*torch.ones(1,X_dim)\n",
        "net = GNNNormal(X_dim, out_channels)\n",
        "target = mu@net.W\n",
        "\n",
        "output = experiment(X_dim, net, 500, r = 0.8)\n",
        "diff1 = []\n",
        "\n",
        "for i in range(len(output)):\n",
        "  diff1.append(target[0][0] - output[i][0]) #compute distance between mean and output\n",
        "   \n"
      ],
      "metadata": {
        "id": "6LVAoGYg3a7w"
      },
      "execution_count": null,
      "outputs": []
    },
    {
      "cell_type": "code",
      "source": [
        "plt.plot(diff1) #again, nice convergence note that now we are doing it for r = 0.8"
      ],
      "metadata": {
        "colab": {
          "base_uri": "https://localhost:8080/",
          "height": 282
        },
        "id": "7N4o3gxx3j3l",
        "outputId": "b5a6e4d6-2340-400d-96bc-cdbe58218581"
      },
      "execution_count": null,
      "outputs": [
        {
          "output_type": "execute_result",
          "data": {
            "text/plain": [
              "[<matplotlib.lines.Line2D at 0x7f9dadf14d30>]"
            ]
          },
          "metadata": {},
          "execution_count": 141
        },
        {
          "output_type": "display_data",
          "data": {
            "text/plain": [
              "<Figure size 432x288 with 1 Axes>"
            ],
            "image/png": "[encoded data removed]"
          },
          "metadata": {
            "needs_background": "light"
          }
        }
      ]
    },
    {
      "cell_type": "markdown",
      "source": [
        "Compare this with the GCN plot - this looks like almost sure convergence! "
      ],
      "metadata": {
        "id": "N-HBZn-erM-0"
      }
    },
    {
      "cell_type": "markdown",
      "source": [
        "Now let's try a distribution which is absolutely horrible (according to our hypothesis) for example Uniform(1,n). First let's see how a bad distribution behaves with respect to $Bin(n,r)$:"
      ],
      "metadata": {
        "id": "MC_ZKQSv4vfe"
      }
    },
    {
      "cell_type": "code",
      "source": [
        "output = []\n",
        "l = []\n",
        "r = 0.5\n",
        "for i in range(1,1000):\n",
        "  x = 1+ np.random.binomial(i-1,r)\n",
        "  y = np.random.uniform(1,i) \n",
        "  output.append(x/y)\n",
        "plt.plot(output)\n",
        "plt.show"
      ],
      "metadata": {
        "colab": {
          "base_uri": "https://localhost:8080/",
          "height": 282
        },
        "id": "CV63HVlq5P9M",
        "outputId": "f21760ac-ce26-4727-835f-3ef0de68bfed"
      },
      "execution_count": null,
      "outputs": [
        {
          "output_type": "execute_result",
          "data": {
            "text/plain": [
              "<function matplotlib.pyplot.show(close=None, block=None)>"
            ]
          },
          "metadata": {},
          "execution_count": 149
        },
        {
          "output_type": "display_data",
          "data": {
            "text/plain": [
              "<Figure size 432x288 with 1 Axes>"
            ],
            "image/png": "[encoded data removed]"
          },
          "metadata": {
            "needs_background": "light"
          }
        }
      ]
    },
    {
      "cell_type": "markdown",
      "source": [
        "Obviously if these are our attention weights, we cannot expect any sort of convergence. Let's do it anyway so that we see what a bad plot looks like:"
      ],
      "metadata": {
        "id": "IToAI3vp5a9w"
      }
    },
    {
      "cell_type": "code",
      "source": [
        "class GNNUniform():\n",
        "  def __init__(self,in_dim, out_dim):\n",
        "    self.W = torch.rand(in_dim,out_dim)\n",
        "    \n",
        "\n",
        "  def forward(self,adj,X,r):\n",
        "    D = torch.distributions.uniform.Uniform(torch.ones_like(adj),adj.shape[0]*torch.ones_like(adj)).sample()\n",
        "    D = 1/D\n",
        "    coeff =  D*adj\n",
        "    prod = coeff @ X @ self.W\n",
        "\n",
        "    return prod"
      ],
      "metadata": {
        "id": "KNVF9SOD4a0E"
      },
      "execution_count": null,
      "outputs": []
    },
    {
      "cell_type": "code",
      "source": [
        "X_dim = 2\n",
        "out_channels = 3\n",
        "mu = 1*torch.ones(1,X_dim)\n",
        "net = GNNUniform(X_dim, out_channels)\n",
        "target = mu@net.W\n",
        "\n",
        "output = experiment(X_dim, net, 500, r = 0.8)\n",
        "diff1 = []\n",
        "for i in range(len(output)):\n",
        "  diff1.append(target[0][0] - output[i][0]) #compute distance between mean and output\n"
      ],
      "metadata": {
        "id": "UVsozrE45uPu"
      },
      "execution_count": null,
      "outputs": []
    },
    {
      "cell_type": "code",
      "source": [
        "plt.plot(diff1)"
      ],
      "metadata": {
        "colab": {
          "base_uri": "https://localhost:8080/",
          "height": 282
        },
        "id": "bpwVjrW25xYW",
        "outputId": "1f5bd81c-d5fa-437b-fe29-669b4f6fff57"
      },
      "execution_count": null,
      "outputs": [
        {
          "output_type": "execute_result",
          "data": {
            "text/plain": [
              "[<matplotlib.lines.Line2D at 0x7f9dadd25070>]"
            ]
          },
          "metadata": {},
          "execution_count": 155
        },
        {
          "output_type": "display_data",
          "data": {
            "text/plain": [
              "<Figure size 432x288 with 1 Axes>"
            ],
            "image/png": "[encoded data removed]"
          },
          "metadata": {
            "needs_background": "light"
          }
        }
      ]
    },
    {
      "cell_type": "markdown",
      "source": [
        "Clearly not convergent - recall that for convergence we need to be around 0, because we are measuring distance from mean. \n",
        "\n",
        "Now let's try something more delicate. Let us look for a distribution which satisfies the condition in probability, but NOT almost surely.\n",
        "\n"
      ],
      "metadata": {
        "id": "0T9a09Z162of"
      }
    },
    {
      "cell_type": "code",
      "source": [
        "output = []\n",
        "l = []\n",
        "r = 0.5\n",
        "for i in range(1,100000):\n",
        "  x = 1+ np.random.binomial(i-1,r)\n",
        "  y = np.random.binomial(1,1/i) \n",
        "  if y == 1:\n",
        "    y = r*i**(1/4) #this was for 1/4, I forgot to change it\n",
        "  else:\n",
        "    y = i*r\n",
        "  output.append(x/y)\n",
        "plt.plot(output)\n",
        "plt.show\n",
        "#Converges in probability but not almost sure"
      ],
      "metadata": {
        "colab": {
          "base_uri": "https://localhost:8080/",
          "height": 282
        },
        "id": "SRBYgXhL6miT",
        "outputId": "6ba891aa-dd23-4cdd-d4b1-d6cc3e28d314"
      },
      "execution_count": null,
      "outputs": [
        {
          "output_type": "execute_result",
          "data": {
            "text/plain": [
              "<function matplotlib.pyplot.show(close=None, block=None)>"
            ]
          },
          "metadata": {},
          "execution_count": 232
        },
        {
          "output_type": "display_data",
          "data": {
            "text/plain": [
              "<Figure size 432x288 with 1 Axes>"
            ],
            "image/png": "[encoded data removed]"
          },
          "metadata": {
            "needs_background": "light"
          }
        }
      ]
    },
    {
      "cell_type": "markdown",
      "source": [
        "Now let's implement a GNN whose attention weights have this distribution. Will we observe convergence?"
      ],
      "metadata": {
        "id": "hT6XQX1E-JVW"
      }
    },
    {
      "cell_type": "code",
      "source": [
        "class GNNWeird():\n",
        "  def __init__(self,in_dim, out_dim):\n",
        "    self.W = torch.rand(in_dim,out_dim)\n",
        "    \n",
        "\n",
        "  def forward(self,adj,X,r):\n",
        "    n = adj.shape[0]\n",
        "    D = torch.distributions.binomial.Binomial(torch.ones_like(adj),(1/n)*torch.ones_like(adj)).sample()\n",
        "    \n",
        "    A = n*r*torch.ones_like(D)\n",
        "    B = r*n**(1/8)*torch.ones_like(D)\n",
        "  \n",
        "    D = torch.where(D == 0, D, B)\n",
        "   \n",
        "    D = torch.where((D == r*n**(1/8)), D, A)\n",
        "    D = 1/D\n",
        "    coeff =  D*adj\n",
        "    prod = coeff @ X @ self.W\n",
        "\n",
        "    return prod"
      ],
      "metadata": {
        "id": "n75-DT0-94LH"
      },
      "execution_count": null,
      "outputs": []
    },
    {
      "cell_type": "code",
      "source": [
        "X_dim = 2\n",
        "out_channels = 3\n",
        "mu = 1*torch.ones(1,X_dim)\n",
        "net = GNNWeird(X_dim, out_channels)\n",
        "target = mu@net.W\n",
        "\n",
        "output = experiment(X_dim, net, 500, r = 1)\n",
        "diff1 = []\n",
        "for i in range(len(output)):\n",
        "  diff1.append(target[0][0] - output[i][0]) #compute distance between mean and output\n"
      ],
      "metadata": {
        "id": "UUq4ZINDBiqB"
      },
      "execution_count": null,
      "outputs": []
    },
    {
      "cell_type": "code",
      "source": [
        "plt.plot(diff1)"
      ],
      "metadata": {
        "colab": {
          "base_uri": "https://localhost:8080/",
          "height": 282
        },
        "id": "wbqIuzDaBpUW",
        "outputId": "f94e418b-141c-46a5-e1b2-e7b9388892bd"
      },
      "execution_count": null,
      "outputs": [
        {
          "output_type": "execute_result",
          "data": {
            "text/plain": [
              "[<matplotlib.lines.Line2D at 0x7f9dae366e80>]"
            ]
          },
          "metadata": {},
          "execution_count": 242
        },
        {
          "output_type": "display_data",
          "data": {
            "text/plain": [
              "<Figure size 432x288 with 1 Axes>"
            ],
            "image/png": "[encoded data removed]"
          },
          "metadata": {
            "needs_background": "light"
          }
        }
      ]
    },
    {
      "cell_type": "markdown",
      "source": [
        "This does not converge almost surely. But is it really happening because of the almost sure vs convergence in probability? Let's take the same distribution, but now change the probability from $1/n$ to $1/n^2$. This gives almost sure convergence: "
      ],
      "metadata": {
        "id": "cLtAIzQtEuXD"
      }
    },
    {
      "cell_type": "code",
      "source": [
        "output = []\n",
        "l = []\n",
        "r = 0.5\n",
        "for i in range(1,100000):\n",
        "  x = 1+ np.random.binomial(i-1,r)\n",
        "  y = np.random.binomial(1,1/i**2) \n",
        "  if y == 1:\n",
        "    y = r*i**(1/8)\n",
        "  else:\n",
        "    y = i*r\n",
        "  output.append(x/y)\n",
        "plt.plot(output)\n",
        "plt.show\n",
        "#Now converges almost surely"
      ],
      "metadata": {
        "colab": {
          "base_uri": "https://localhost:8080/",
          "height": 282
        },
        "id": "1MaAxAOwB3dS",
        "outputId": "efb09b00-2533-4f39-ef0f-24102f3cd918"
      },
      "execution_count": null,
      "outputs": [
        {
          "output_type": "execute_result",
          "data": {
            "text/plain": [
              "<function matplotlib.pyplot.show(close=None, block=None)>"
            ]
          },
          "metadata": {},
          "execution_count": 243
        },
        {
          "output_type": "display_data",
          "data": {
            "text/plain": [
              "<Figure size 432x288 with 1 Axes>"
            ],
            "image/png": "[encoded data removed]"
          },
          "metadata": {
            "needs_background": "light"
          }
        }
      ]
    },
    {
      "cell_type": "markdown",
      "source": [
        "So how does the GNN behave now?"
      ],
      "metadata": {
        "id": "3pCMyWAKFIK8"
      }
    },
    {
      "cell_type": "code",
      "source": [
        "class GNNWeird2():\n",
        "  def __init__(self,in_dim, out_dim):\n",
        "    self.W = torch.rand(in_dim,out_dim)\n",
        "    \n",
        "\n",
        "  def forward(self,adj,X,r):\n",
        "    n = adj.shape[0]\n",
        "    D = torch.distributions.binomial.Binomial(torch.ones_like(adj),(1/n**2)*torch.ones_like(adj)).sample() #note the n**2 - the only thing that changes\n",
        "    \n",
        "    A = n*r*torch.ones_like(D)\n",
        "    B = r*n**(1/8)*torch.ones_like(D)\n",
        "  \n",
        "    D = torch.where(D == 0, D, B)\n",
        "   \n",
        "    D = torch.where((D == r*n**(1/8)), D, A)\n",
        "    D = 1/D\n",
        "    coeff =  D*adj\n",
        "    prod = coeff @ X @ self.W\n",
        "\n",
        "    return prod"
      ],
      "metadata": {
        "id": "OCYt_gRHFHJ6"
      },
      "execution_count": null,
      "outputs": []
    },
    {
      "cell_type": "code",
      "source": [
        "X_dim = 2\n",
        "out_channels = 3\n",
        "mu = 1*torch.ones(1,X_dim)\n",
        "net = GNNWeird2(X_dim, out_channels)\n",
        "target = mu@net.W\n",
        "\n",
        "output = experiment(X_dim, net, 500, r = 1)\n",
        "diff1 = []\n",
        "diff2 = []\n",
        "diff3 = []\n",
        "for i in range(len(output)):\n",
        "  diff1.append(target[0][0] - output[i][0]) #compute distance between mean and output\n",
        "  diff2.append(target[0][1] - output[i][1])\n",
        "  diff3.append(target[0][2] - output[i][2])  \n",
        "plt.plot(diff1)"
      ],
      "metadata": {
        "colab": {
          "base_uri": "https://localhost:8080/",
          "height": 282
        },
        "id": "DYmo4JzxFTT8",
        "outputId": "66beda0c-8021-4ff6-ea1f-82d3749107ec"
      },
      "execution_count": null,
      "outputs": [
        {
          "output_type": "execute_result",
          "data": {
            "text/plain": [
              "[<matplotlib.lines.Line2D at 0x7f9dad22a820>]"
            ]
          },
          "metadata": {},
          "execution_count": 245
        },
        {
          "output_type": "display_data",
          "data": {
            "text/plain": [
              "<Figure size 432x288 with 1 Axes>"
            ],
            "image/png": "[encoded data removed]"
          },
          "metadata": {
            "needs_background": "light"
          }
        }
      ]
    },
    {
      "cell_type": "markdown",
      "source": [
        "Now we get beautiful convergence. This suggests that the almost sure convergence vs convergence in probability is something not to be overlooked. "
      ],
      "metadata": {
        "id": "o2RsTxK1GQNx"
      }
    },
    {
      "cell_type": "markdown",
      "source": [
        "However, this example was quite pathological, because there was an \"exploding\" subsequence. Can we find a distribution which is firstly continuous and secondly, not as bad? It turns out this is not that easy to find (for the Binomial dist), but one can prove that the Cauchy distribution satisfies what we want - its ratio with the binomial distribution converges in probability, but not almost surely and it is continuous. Once again, you can do so using the Borel Cantelli lemmas. Let's look into the experiments:\n",
        "\n"
      ],
      "metadata": {
        "id": "b5MdrHJRGVPM"
      }
    },
    {
      "cell_type": "code",
      "source": [
        "import scipy.stats\n",
        "output = []\n",
        "dist = []\n",
        "r = 1\n",
        "for i in range(2,100000):\n",
        "  y = 1+ np.random.binomial(i-1,r)\n",
        "  x = abs(scipy.stats.cauchy.rvs(loc=i, scale=1, size=1))\n",
        "  dist.append(x)\n",
        "  output.append(y/x)\n",
        "plt.plot(output)\n",
        "plt.show()"
      ],
      "metadata": {
        "colab": {
          "base_uri": "https://localhost:8080/",
          "height": 265
        },
        "id": "68iSn7j4FVnF",
        "outputId": "fa99b8ca-928d-4e94-cc71-a9da75b4a348"
      },
      "execution_count": null,
      "outputs": [
        {
          "output_type": "display_data",
          "data": {
            "text/plain": [
              "<Figure size 432x288 with 1 Axes>"
            ],
            "image/png": "[encoded data removed]"
          },
          "metadata": {
            "needs_background": "light"
          }
        }
      ]
    },
    {
      "cell_type": "markdown",
      "source": [
        "Now we see the convergence is NOT almost sure, but the \"bad\" values don't explode (in fact they are very close to 1). Now let's implement a GNN whose attention weights follow this distribution:"
      ],
      "metadata": {
        "id": "clEqngvYs_P-"
      }
    },
    {
      "cell_type": "code",
      "source": [
        "class GNNCauchy():\n",
        "  def __init__(self,in_dim, out_dim):\n",
        "    self.W = torch.rand(in_dim,out_dim)\n",
        "    \n",
        "\n",
        "  def forward(self,adj,X,r):\n",
        "    n = adj.shape[0]\n",
        "    D = torch.distributions.cauchy.Cauchy(n*torch.ones_like(adj), torch.ones_like(adj)).sample()\n",
        "    D = 1/D\n",
        "    conv =  D*adj\n",
        "    sum = conv@X\n",
        "    prod = sum @ self.W\n",
        "\n",
        "    return prod"
      ],
      "metadata": {
        "id": "LIkeqai7Hrr0"
      },
      "execution_count": null,
      "outputs": []
    },
    {
      "cell_type": "code",
      "source": [
        "X_dim = 2\n",
        "out_channels = 3\n",
        "mu = 1*torch.ones(1,X_dim)\n",
        "net = GNNCauchy(X_dim, out_channels)\n",
        "target = mu@net.W\n",
        "\n",
        "output = experiment(X_dim, net, 500, r = 1)\n",
        "diff1 = []\n",
        "\n",
        "for i in range(len(output)):\n",
        "  diff1.append(target[0][0] - output[i][0]) #compute distance between mean and output \n",
        "plt.plot(diff1)"
      ],
      "metadata": {
        "colab": {
          "base_uri": "https://localhost:8080/",
          "height": 282
        },
        "id": "XxRua9MAIie-",
        "outputId": "10f6f03e-4698-478a-daad-644cfb5f0f41"
      },
      "execution_count": null,
      "outputs": [
        {
          "output_type": "execute_result",
          "data": {
            "text/plain": [
              "[<matplotlib.lines.Line2D at 0x7f9daa02daf0>]"
            ]
          },
          "metadata": {},
          "execution_count": 317
        },
        {
          "output_type": "display_data",
          "data": {
            "text/plain": [
              "<Figure size 432x288 with 1 Axes>"
            ],
            "image/png": "[encoded data removed]"
          },
          "metadata": {
            "needs_background": "light"
          }
        }
      ]
    },
    {
      "cell_type": "markdown",
      "source": [
        "Notice that now we have outliers - this is exactly the difference between almost sure convergence and convergence in probability. In my opinion, this suggests that the first part of the conjecture is correct, and that indeed the driving mechanism is the strong law of large numbers. \n",
        "\n",
        "\n"
      ],
      "metadata": {
        "id": "k9_iD1ppIzny"
      }
    },
    {
      "cell_type": "markdown",
      "source": [
        "#Claim 2: Zero One Law"
      ],
      "metadata": {
        "id": "voyFl3MR4wq2"
      }
    },
    {
      "cell_type": "markdown",
      "source": [
        "While all of the above is nice, it is quite unlikely that we will be able to spot a difference when it comes to the zero one laws. The reason is that even if the convergence has these oscillations, the mean (the value it is converging to) would need to be very close to the classification boundary in order for these oscillations to impact the resulting label. One way to test this would be to find a classifier for which the the value we are converging to is really close to the classification boundary - but this is not trivial to do. For this reason, I've decided to slightly change the experimental setup. Instead of looking at the graph labels, we will look at whether the embeddings converge to the mean and draw conclusions from that. Note that this is inline with the theory given in the paper. \n",
        "\n",
        "Our setup is very similar to the one in the paper: We will have a GNN with 3 layers. Initially, the GNN will not have a nonlinearity (in the paper a truncated identity was used), because I believe that actually, the nonlinearity **amplifies** the convergence behaviour (I don't want to go into this). The GNN obtains the graph label using average pooling.\n",
        "\n",
        "The key difference is that in our setup, the \"attention weights\" are sampled from a distribution. We want to understand how this distribution affects the convergence of the embeddings. For this reason, we will compute the normalized $L2$ distance of the pooled embeddings from the target value, which is the value that theory suggests we should converge to. "
      ],
      "metadata": {
        "id": "8hf8YGC1Zclw"
      }
    },
    {
      "cell_type": "code",
      "source": [
        "import torch\n",
        "import torch.nn as nn\n",
        "import torch.nn.functional as F"
      ],
      "metadata": {
        "id": "jyoySHgx7CJ6"
      },
      "execution_count": null,
      "outputs": []
    },
    {
      "cell_type": "code",
      "source": [
        "class GNNCauchy():\n",
        "  def __init__(self,in_dim, hid_dim = 3):\n",
        "    self.W = torch.rand(in_dim,hid_dim)*(-2)+1\n",
        "    self.W2 = torch.rand(hid_dim,hid_dim)*(-2)+1\n",
        "    self.W3 = torch.rand(hid_dim,hid_dim)*(-2)+1\n",
        "    self.weights = [self.W, self.W2, self.W3]\n",
        "    \n",
        "  def forward(self,adj,X,r):\n",
        "    n = adj.shape[0]\n",
        "    for i in range(3):\n",
        "      D = torch.distributions.cauchy.Cauchy(n*r*torch.ones_like(adj), torch.ones_like(adj)).sample()\n",
        "      D = 1/D \n",
        "      X = (D*adj) @ X @ self.weights[i]\n",
        "    \n",
        "    X = torch.mean(X,dim = 0).unsqueeze(dim = 1)\n",
        "    return X"
      ],
      "metadata": {
        "id": "wYAC9r8m6X66"
      },
      "execution_count": null,
      "outputs": []
    },
    {
      "cell_type": "code",
      "source": [
        "class GNNNormal():\n",
        "  def __init__(self,in_dim,hid_dim = 3):\n",
        "    self.W = torch.rand(in_dim,hid_dim)*(-2)+1\n",
        "    self.W2 = torch.rand(hid_dim,hid_dim)*(-2)+1\n",
        "    self.W3 = torch.rand(hid_dim,hid_dim)*(-2)+1\n",
        "    self.weights = [self.W, self.W2, self.W3]\n",
        "\n",
        "  def forward(self,adj,X,r):\n",
        "    \n",
        "    n = adj.shape[0]\n",
        "    for i in range(3):\n",
        "      D = torch.distributions.normal.Normal(n*r*torch.ones_like(adj),1*torch.ones_like(adj)).sample()\n",
        "      D = 1/D  \n",
        "      X = (D*adj) @ X @ self.weights[i]\n",
        "    \n",
        "    X = torch.mean(X,dim = 0).unsqueeze(dim = 1)\n",
        "    \n",
        "    return X"
      ],
      "metadata": {
        "id": "r7komiHSAgOU"
      },
      "execution_count": null,
      "outputs": []
    },
    {
      "cell_type": "code",
      "source": [
        "class GNNUniform():\n",
        "  def __init__(self,in_dim, hid_dim = 3):\n",
        "    self.W = torch.rand(in_dim,hid_dim)*(-2)+1\n",
        "    self.W2 = torch.rand(hid_dim,hid_dim)*(-2)+1\n",
        "    self.W3 = torch.rand(hid_dim,hid_dim)*(-2)+1\n",
        "    self.weights = [self.W, self.W2, self.W3]\n",
        "  def forward(self,adj,X,r):\n",
        "    n = adj.shape[0]\n",
        "    for i in range(3):\n",
        "      D = torch.distributions.uniform.Uniform(1*torch.ones_like(adj), n*torch.ones_like(adj)).sample()\n",
        "      D = 1/D \n",
        "      X = (D*adj) @ X @ self.weights[i]\n",
        "      \n",
        "    X = torch.mean(X,dim = 0).unsqueeze(dim = 1)\n",
        "    \n",
        "    return X"
      ],
      "metadata": {
        "id": "qN2_cL2eBeiM"
      },
      "execution_count": null,
      "outputs": []
    },
    {
      "cell_type": "code",
      "source": [
        "#this is the same as before but we start with graphs of size 20 to have nicer plots (sometimes the first few values are wild)\n",
        "\n",
        "def experiment(X_dim, net, num_graphs = 500, r = 1):\n",
        "  output = []\n",
        "  #samples random graphs of size 1,2 .. num_graphs (one graph for each size) with random features\n",
        "\n",
        "  for n in range(20,num_graphs):\n",
        "    #prepare self loops\n",
        "    self_loops = torch.arange(n).reshape(1,n)\n",
        "    edge_index0 = torch.cat((self_loops,self_loops), dim = 0 )\n",
        "\n",
        "    #generate random graph from G(n,r)\n",
        "    edge_index = torch.cat((generate_erdos_renyi(n,r),edge_index0), dim = 1) \n",
        "    adj = torch_geometric.utils.to_dense_adj(edge_index)[0] \n",
        "\n",
        "    #generate node features\n",
        "    X = generate_node_features(n,X_dim)\n",
        "\n",
        "    Y_n = net.forward(adj,X,r)\n",
        "  \n",
        "    output.append(Y_n[0]) #only look at one vertex \n",
        "  \n",
        "  return output"
      ],
      "metadata": {
        "id": "bovIrBAxmmpM"
      },
      "execution_count": null,
      "outputs": []
    },
    {
      "cell_type": "code",
      "source": [
        "X_dim = 32\n",
        "hid_dim = 16\n",
        "mu = 1*torch.ones(1,X_dim)\n",
        "nets = [GNNNormal(X_dim,hid_dim), GNNCauchy(X_dim,hid_dim), GNNUniform(X_dim,hid_dim)]\n",
        "targets = []\n",
        "for net in nets:  \n",
        "  targets.append(torch.tensor(mu@net.W@net.W2@net.W3))\n",
        "\n",
        "distances = []\n",
        "for i in range(len(nets)):\n",
        "  distance = []\n",
        "  output = experiment(X_dim, nets[i], 500, r = 1/2)\n",
        "  for j in range(len(output)):\n",
        "    distance.append((1/X_dim)*torch.linalg.vector_norm(targets[i] - output[j]))\n",
        "  distances.append(distance)\n"
      ],
      "metadata": {
        "id": "z-wIfE-u4vff",
        "colab": {
          "base_uri": "https://localhost:8080/"
        },
        "outputId": "21ffe6db-4c1e-4159-a934-829896a0aa14"
      },
      "execution_count": null,
      "outputs": [
        {
          "output_type": "stream",
          "name": "stderr",
          "text": [
            "<ipython-input-49-fb3f514d3ec2>:7: UserWarning: To copy construct from a tensor, it is recommended to use sourceTensor.clone().detach() or sourceTensor.clone().detach().requires_grad_(True), rather than torch.tensor(sourceTensor).\n",
            "  targets.append(torch.tensor(mu@net.W@net.W2@net.W3))\n"
          ]
        }
      ]
    },
    {
      "cell_type": "code",
      "source": [
        "figure, axis = plt.subplots(1, 3)\n",
        "  \n",
        "\n",
        "axis[0].plot(distances[0])\n",
        "axis[0].set_title(\"Normal\")\n",
        "  \n",
        "\n",
        "axis[1].plot(distances[1])\n",
        "axis[1].set_title(\"Cauchy\")\n",
        "  \n",
        "\n",
        "axis[2].plot(distances[2])\n",
        "axis[2].set_title(\"Uniform\")\n",
        "\n",
        "figure.tight_layout(pad = 2)\n",
        "plt.show()"
      ],
      "metadata": {
        "colab": {
          "base_uri": "https://localhost:8080/",
          "height": 279
        },
        "id": "c6f6_OGljGU_",
        "outputId": "615fb0dd-fd11-46d0-ce32-71438dc8633b"
      },
      "execution_count": null,
      "outputs": [
        {
          "output_type": "display_data",
          "data": {
            "text/plain": [
              "<Figure size 432x288 with 3 Axes>"
            ],
            "image/png": "[encoded data removed]"
          },
          "metadata": {
            "needs_background": "light"
          }
        }
      ]
    },
    {
      "cell_type": "markdown",
      "source": [
        "In my opinion, the plots are surprisingly nice. We see almost sure convergence in the first plot, convergence in probability in the second plot (look at the values on the y-axis) and divergence in the third plot. For some reason, the first plot is not exactly around the value 0 - in my opinion, this is because now we are computing the average distance over 32 dimensions and perhaps the convergence is slower - one would need to test this for larger graphs. Nevertheless, we see the behaviour that was predicted. \n",
        "\n",
        "So what is the verdict for the zero one laws? If you actually assign labels for the above graphs, you will see that all 3 cases satisfy a zero one law, but for different reasons. The first plot satisfies the zero one law for reasons predicted by the theory. The \"Uniform\" case satisfies a zero one law because the embeddings diverge to infinity, so the classification boundary will eventually be crossed and the classifier will produce the same label. \n",
        "The second plot satisfies a zero one law most of the time, in the sense that the target would need to be close to the classification boundary in order for the labels to oscillate. But even if the classification boundary was close, the second case would satisfy the zero one law **in probability** but NOT almost surely, meaning that you would have an infinite sequence of \"bad\" labels. As I said before, to verify this experimentally, your target would have to be close to the classification boundary - I leave this task for future study. To conclude this section, we can now modify our conjecture: \n",
        "\n",
        "\n",
        "Let $M$ be a GNN with the aggregation scheme\n",
        "$$\n",
        "y_v^1 = \\sum_{u \\in N(v)}\\alpha_{vu}W_1x_u \n",
        "$$\n",
        "\n",
        "where $\\alpha_{vu} \\sim D(n)$ are independent and $N(v)$ follows a distribution according to the random graph model. Then we have the following cases:\n",
        "\n",
        "1.  If $D(n)$ and the random graph model are such that $D(n) \\times |N(v)| \\to c$ almost surely, then the zero one law is satisfied almost surely\n",
        "2. If $D(n)$ and the random graph model are such that $D(n) \\times |N(v)| \\to c$ in probability, then the zero one law is satisfied in probability\n",
        "3. If $D(n)$ and the random graph model are such that $D(n) \\times |N(v)| \\to \\infty$ almost surely/in probability then the zero one law is satisfied almost surely/in probability\n",
        "\n",
        "Note that case 1 includes the case when $c = 0$, meaning that one of the distributions \"beats\" the other and the embeddings converge to zero. \n",
        "\n",
        "In my opinion, it is quite hard to find a distribution that doesn't fall to any of the above cases - you need something which doesn't converge nor diverge in relation to the random graph model. \n",
        "\n",
        "\n",
        "So perhaps thinking about the zero one laws in connection to the strong law of large numbers can bring new insights into the problem. \n",
        "\n",
        "\n",
        "**Disclaimer**\n",
        "I am not saying that our experiments prove this conjecture. "
      ],
      "metadata": {
        "id": "yxUh5fckqlEZ"
      }
    },
    {
      "cell_type": "markdown",
      "source": [
        "# Final remarks"
      ],
      "metadata": {
        "id": "8YAf6WHC-1rJ"
      }
    },
    {
      "cell_type": "markdown",
      "source": [
        "A small problem of our approach is that the model we are considering is in fact too general. For example, graph attention networks have a strong constraint on the coefficients - they must sum to 1. This means that the above findings don't directly apply. But thanks to the above section we have a very detailed understanding of the convergence behaviour and we know exactly what must be done in order to understand the zero one laws of GATs - one must simply do the above analysis using distributions that sum to one.  For example, if the distribution of the coefficients is such that they are all equal (or similar), we are in case 1 and we will see almost sure convergence. Since I am way over the page limit,  I defer this task to another time. \n",
        "\n",
        "I hope you found this at least a little interesting. "
      ],
      "metadata": {
        "id": "f14G8-rDuZt1"
      }
    }
  ]
}